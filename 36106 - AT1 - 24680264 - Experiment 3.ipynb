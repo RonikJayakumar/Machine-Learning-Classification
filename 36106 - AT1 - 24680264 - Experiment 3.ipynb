{
 "cells": [
  {
   "cell_type": "markdown",
   "metadata": {
    "id": "uQ6wc2HE0pke"
   },
   "source": [
    "# Experiment 3 - Lasso Regression\n",
    "\n"
   ]
  },
  {
   "cell_type": "markdown",
   "metadata": {
    "id": "tQgxLRrvjiJb"
   },
   "source": [
    "\n",
    "In experiment 3, a Lasso regression model is trained to predict salaries based on the given features. Lasso regression, short for Least Absolute Shrinkage and Selection Operator, is another variant of linear regression that includes a regularization term.\n",
    "Performs L1 regularization, i.e., adds penalty equivalent to the absolute value of the magnitude of coefficients [1]"
   ]
  },
  {
   "cell_type": "markdown",
   "metadata": {
    "id": "KFVpE17Ahezu"
   },
   "source": [
    "### 0. Import Packages"
   ]
  },
  {
   "cell_type": "code",
   "execution_count": null,
   "metadata": {
    "id": "u7pv3da6hezu"
   },
   "outputs": [],
   "source": [
    "! pip install -r https://raw.githubusercontent.com/aso-uts/labs_datasets/main/36106-mlaa/requirements.txt"
   ]
  },
  {
   "cell_type": "code",
   "execution_count": 1,
   "metadata": {
    "id": "X3l_Iffyhezx"
   },
   "outputs": [],
   "source": [
    "import pandas as pd\n",
    "import numpy as np\n",
    "import matplotlib.pyplot as plt\n",
    "import seaborn as sns\n",
    "from datetime import datetime\n",
    "from sklearn.linear_model import Lasso\n",
    "from sklearn.model_selection import train_test_split, GridSearchCV, KFold, cross_val_score\n",
    "from sklearn.preprocessing import StandardScaler, LabelEncoder\n",
    "from sklearn.metrics import mean_squared_error\n",
    "from scipy.stats import f_oneway"
   ]
  },
  {
   "cell_type": "markdown",
   "metadata": {
    "id": "_NCwQQFkU3v5"
   },
   "source": [
    "### 1.   Load Dataset"
   ]
  },
  {
   "cell_type": "code",
   "execution_count": 2,
   "metadata": {
    "id": "SiroVmhn9_HP"
   },
   "outputs": [],
   "source": [
    "train_num = pd.read_csv('/Users/ronikj/Downloads/train_num.csv')"
   ]
  },
  {
   "cell_type": "markdown",
   "metadata": {
    "id": "8Ivx4xzphezz"
   },
   "source": [
    "### 2. Explore Dataset"
   ]
  },
  {
   "cell_type": "code",
   "execution_count": 3,
   "metadata": {
    "id": "SeVo97rOhezz"
   },
   "outputs": [
    {
     "data": {
      "text/html": [
       "<div>\n",
       "<style scoped>\n",
       "    .dataframe tbody tr th:only-of-type {\n",
       "        vertical-align: middle;\n",
       "    }\n",
       "\n",
       "    .dataframe tbody tr th {\n",
       "        vertical-align: top;\n",
       "    }\n",
       "\n",
       "    .dataframe thead th {\n",
       "        text-align: right;\n",
       "    }\n",
       "</style>\n",
       "<table border=\"1\" class=\"dataframe\">\n",
       "  <thead>\n",
       "    <tr style=\"text-align: right;\">\n",
       "      <th></th>\n",
       "      <th>quant</th>\n",
       "      <th>logical</th>\n",
       "      <th>10percentage</th>\n",
       "      <th>english</th>\n",
       "      <th>collegetier</th>\n",
       "      <th>12percentage</th>\n",
       "      <th>computerprogramming</th>\n",
       "      <th>domain</th>\n",
       "      <th>age</th>\n",
       "      <th>salary</th>\n",
       "      <th>specialization_encoded</th>\n",
       "    </tr>\n",
       "  </thead>\n",
       "  <tbody>\n",
       "    <tr>\n",
       "      <th>0</th>\n",
       "      <td>2.432643</td>\n",
       "      <td>1.892646</td>\n",
       "      <td>1.016186</td>\n",
       "      <td>1.420185</td>\n",
       "      <td>0.0</td>\n",
       "      <td>0.868785</td>\n",
       "      <td>4.136420e-01</td>\n",
       "      <td>0.421884</td>\n",
       "      <td>0.249636</td>\n",
       "      <td>1.094253</td>\n",
       "      <td>1.497270</td>\n",
       "    </tr>\n",
       "    <tr>\n",
       "      <th>1</th>\n",
       "      <td>-2.500658</td>\n",
       "      <td>-0.754060</td>\n",
       "      <td>-2.076659</td>\n",
       "      <td>-0.581010</td>\n",
       "      <td>0.0</td>\n",
       "      <td>-0.885233</td>\n",
       "      <td>-9.865498e-01</td>\n",
       "      <td>-0.568227</td>\n",
       "      <td>0.249636</td>\n",
       "      <td>-1.328135</td>\n",
       "      <td>-0.810604</td>\n",
       "    </tr>\n",
       "    <tr>\n",
       "      <th>2</th>\n",
       "      <td>-0.075118</td>\n",
       "      <td>-0.293763</td>\n",
       "      <td>-0.035181</td>\n",
       "      <td>-0.152183</td>\n",
       "      <td>0.0</td>\n",
       "      <td>0.974026</td>\n",
       "      <td>-6.632640e-16</td>\n",
       "      <td>0.787905</td>\n",
       "      <td>0.827781</td>\n",
       "      <td>-0.279638</td>\n",
       "      <td>-0.041313</td>\n",
       "    </tr>\n",
       "    <tr>\n",
       "      <th>3</th>\n",
       "      <td>0.993763</td>\n",
       "      <td>1.374812</td>\n",
       "      <td>0.664726</td>\n",
       "      <td>1.658423</td>\n",
       "      <td>0.0</td>\n",
       "      <td>1.048685</td>\n",
       "      <td>2.397247e+00</td>\n",
       "      <td>1.252765</td>\n",
       "      <td>-0.328509</td>\n",
       "      <td>0.913478</td>\n",
       "      <td>-0.810604</td>\n",
       "    </tr>\n",
       "    <tr>\n",
       "      <th>4</th>\n",
       "      <td>-1.226222</td>\n",
       "      <td>-0.063615</td>\n",
       "      <td>0.433767</td>\n",
       "      <td>0.705472</td>\n",
       "      <td>0.0</td>\n",
       "      <td>0.059238</td>\n",
       "      <td>-1.569963e+00</td>\n",
       "      <td>-0.747762</td>\n",
       "      <td>0.249636</td>\n",
       "      <td>-0.677344</td>\n",
       "      <td>-1.689794</td>\n",
       "    </tr>\n",
       "  </tbody>\n",
       "</table>\n",
       "</div>"
      ],
      "text/plain": [
       "      quant   logical  10percentage   english  collegetier  12percentage  \\\n",
       "0  2.432643  1.892646      1.016186  1.420185          0.0      0.868785   \n",
       "1 -2.500658 -0.754060     -2.076659 -0.581010          0.0     -0.885233   \n",
       "2 -0.075118 -0.293763     -0.035181 -0.152183          0.0      0.974026   \n",
       "3  0.993763  1.374812      0.664726  1.658423          0.0      1.048685   \n",
       "4 -1.226222 -0.063615      0.433767  0.705472          0.0      0.059238   \n",
       "\n",
       "   computerprogramming    domain       age    salary  specialization_encoded  \n",
       "0         4.136420e-01  0.421884  0.249636  1.094253                1.497270  \n",
       "1        -9.865498e-01 -0.568227  0.249636 -1.328135               -0.810604  \n",
       "2        -6.632640e-16  0.787905  0.827781 -0.279638               -0.041313  \n",
       "3         2.397247e+00  1.252765 -0.328509  0.913478               -0.810604  \n",
       "4        -1.569963e+00 -0.747762  0.249636 -0.677344               -1.689794  "
      ]
     },
     "execution_count": 3,
     "metadata": {},
     "output_type": "execute_result"
    }
   ],
   "source": [
    "train_num.head()"
   ]
  },
  {
   "cell_type": "code",
   "execution_count": 4,
   "metadata": {
    "id": "Gd6eGM81hez0"
   },
   "outputs": [
    {
     "data": {
      "text/plain": [
       "(2998, 11)"
      ]
     },
     "execution_count": 4,
     "metadata": {},
     "output_type": "execute_result"
    }
   ],
   "source": [
    "train_num.shape"
   ]
  },
  {
   "cell_type": "code",
   "execution_count": 5,
   "metadata": {
    "id": "L6eMrb1Dhez0"
   },
   "outputs": [
    {
     "data": {
      "text/plain": [
       "quant                     float64\n",
       "logical                   float64\n",
       "10percentage              float64\n",
       "english                   float64\n",
       "collegetier               float64\n",
       "12percentage              float64\n",
       "computerprogramming       float64\n",
       "domain                    float64\n",
       "age                       float64\n",
       "salary                    float64\n",
       "specialization_encoded    float64\n",
       "dtype: object"
      ]
     },
     "execution_count": 5,
     "metadata": {},
     "output_type": "execute_result"
    }
   ],
   "source": [
    "train_num.dtypes"
   ]
  },
  {
   "cell_type": "markdown",
   "metadata": {
    "id": "M4XLRCm9hez2"
   },
   "source": [
    "### 3. Explore Target variable"
   ]
  },
  {
   "cell_type": "code",
   "execution_count": 6,
   "metadata": {
    "id": "NpX52MLIhez2"
   },
   "outputs": [
    {
     "data": {
      "text/plain": [
       "0    1.094253\n",
       "1   -1.328135\n",
       "2   -0.279638\n",
       "3    0.913478\n",
       "4   -0.677344\n",
       "Name: salary, dtype: float64"
      ]
     },
     "execution_count": 6,
     "metadata": {},
     "output_type": "execute_result"
    }
   ],
   "source": [
    "target = train_num['salary']\n",
    "target.head()"
   ]
  },
  {
   "cell_type": "code",
   "execution_count": 21,
   "metadata": {
    "id": "o7N7UUAEhez3"
   },
   "outputs": [
    {
     "data": {
      "text/plain": [
       "(2998,)"
      ]
     },
     "execution_count": 21,
     "metadata": {},
     "output_type": "execute_result"
    }
   ],
   "source": [
    "target.shape"
   ]
  },
  {
   "cell_type": "markdown",
   "metadata": {
    "id": "dqVN0F2shez3"
   },
   "source": [
    "### 4. Explore Variables of Interest"
   ]
  },
  {
   "cell_type": "markdown",
   "metadata": {
    "id": "vA52cCK8hez3"
   },
   "source": [
    "This step is skipped as data exploration has been performed in experiment 1. The same cleaned and explored dataset is being used for the Experiment 2."
   ]
  },
  {
   "cell_type": "markdown",
   "metadata": {
    "id": "miQ6SiKlscLx"
   },
   "source": [
    "### 5. Prepare Data"
   ]
  },
  {
   "cell_type": "markdown",
   "metadata": {
    "id": "HrXR7NCLtwxB"
   },
   "source": [
    "This step is skipped as data exploration has been performed in experiment 1. The same cleaned and explored dataset is being used for the Experiment 2."
   ]
  },
  {
   "cell_type": "markdown",
   "metadata": {
    "id": "N0S5LSAcjkvP"
   },
   "source": [
    "### 6. Split Dataset"
   ]
  },
  {
   "cell_type": "code",
   "execution_count": 9,
   "metadata": {
    "id": "ICjW0_-4TBvu"
   },
   "outputs": [
    {
     "name": "stdout",
     "output_type": "stream",
     "text": [
      "X_train shape: (2398, 10)\n",
      "X_test shape: (300, 10)\n",
      "X_val shape: (300, 10)\n",
      "y_train shape: (2398,)\n",
      "y_test shape: (300,)\n",
      "y_val shape: (300,)\n"
     ]
    }
   ],
   "source": [
    "X = train_num.drop(columns=['salary'])\n",
    "y = train_num['salary'] \n",
    "\n",
    "X_train, X_temp, y_train, y_temp = train_test_split(X, y, test_size=0.2, random_state=42)\n",
    "X_test, X_val, y_test, y_val = train_test_split(X_temp, y_temp, test_size=0.5, random_state=42)\n",
    "\n",
    "print(\"X_train shape:\", X_train.shape)\n",
    "print(\"X_test shape:\", X_test.shape)\n",
    "print(\"X_val shape:\", X_val.shape)\n",
    "print(\"y_train shape:\", y_train.shape)\n",
    "print(\"y_test shape:\", y_test.shape)\n",
    "print(\"y_val shape:\", y_val.shape)"
   ]
  },
  {
   "cell_type": "markdown",
   "metadata": {
    "id": "N8MNBrC4Zgz6"
   },
   "source": [
    "### 7. Baseline Model"
   ]
  },
  {
   "cell_type": "code",
   "execution_count": 10,
   "metadata": {
    "id": "Mh6epkAThez5"
   },
   "outputs": [
    {
     "data": {
      "text/plain": [
       "Lasso(alpha=1)"
      ]
     },
     "execution_count": 10,
     "metadata": {},
     "output_type": "execute_result"
    }
   ],
   "source": [
    "lasso_model = Lasso(alpha=1)\n",
    "lasso_model.fit(X_train, y_train)"
   ]
  },
  {
   "cell_type": "code",
   "execution_count": 11,
   "metadata": {
    "id": "7We16YIYhez5"
   },
   "outputs": [],
   "source": [
    "y_train_pred = lasso_model.predict(X_train)\n",
    "train_rmse = mean_squared_error(y_train, y_train_pred, squared=False)"
   ]
  },
  {
   "cell_type": "code",
   "execution_count": 12,
   "metadata": {
    "id": "yQlcYIfThez5"
   },
   "outputs": [],
   "source": [
    "y_pred = lasso_model.predict(X_val)\n",
    "val_rmse = mean_squared_error(y_val, y_pred, squared=False)"
   ]
  },
  {
   "cell_type": "code",
   "execution_count": 13,
   "metadata": {
    "id": "x1Q3oxoNhez5"
   },
   "outputs": [
    {
     "name": "stdout",
     "output_type": "stream",
     "text": [
      "Root Mean Squared Error (RMSE) on Training Set: 1.004\n",
      "Root Mean Squared Error (RMSE) on Validation Set: 1.001\n"
     ]
    }
   ],
   "source": [
    "model_train_perf = train_rmse.round(3)\n",
    "model_valid_perf = val_rmse.round(3)\n",
    "\n",
    "print(\"Root Mean Squared Error (RMSE) on Training Set:\", model_train_perf)\n",
    "print(\"Root Mean Squared Error (RMSE) on Validation Set:\", model_valid_perf)"
   ]
  },
  {
   "cell_type": "markdown",
   "metadata": {},
   "source": [
    "The baseline model in this case has been taken as a Lasso Regularization model with a random value for alpha. We see increased RMSE scores as compared to Ridge Regularization and Linear Regression. \n",
    "\n",
    "This indicates Cross Validation requirement to find the ideal score for alpha."
   ]
  },
  {
   "cell_type": "markdown",
   "metadata": {
    "id": "JUEbyrm2ZzhL"
   },
   "source": [
    "### 8. Train Machine Learning Model"
   ]
  },
  {
   "cell_type": "code",
   "execution_count": 22,
   "metadata": {
    "id": "PTd6xDMVhez7"
   },
   "outputs": [
    {
     "name": "stdout",
     "output_type": "stream",
     "text": [
      "Fitting 5 folds for each of 9 candidates, totalling 45 fits\n"
     ]
    },
    {
     "data": {
      "text/plain": [
       "GridSearchCV(cv=KFold(n_splits=5, random_state=42, shuffle=True),\n",
       "             estimator=Lasso(),\n",
       "             param_grid={'alpha': [0.001, 0.01, 0.1, 0.2, 0.5, 0.9, 1.0, 5.0,\n",
       "                                   10.0]},\n",
       "             return_train_score=True, scoring='r2', verbose=1)"
      ]
     },
     "execution_count": 22,
     "metadata": {},
     "output_type": "execute_result"
    }
   ],
   "source": [
    "folds = KFold(n_splits=5, shuffle=True, random_state=42)\n",
    "params = {'alpha': [0.001, 0.01, 0.1, 0.2, 0.5, 0.9, 1.0, 5.0, 10.0,]}\n",
    "\n",
    "model = Lasso()\n",
    "\n",
    "model_cv = GridSearchCV(estimator=model, param_grid = params, \n",
    "                       scoring='r2', cv=folds, \n",
    "                       return_train_score=True, verbose=1)\n",
    "model_cv.fit(X_train, y_train)"
   ]
  },
  {
   "cell_type": "code",
   "execution_count": 23,
   "metadata": {
    "id": "IYWH3u1phez8"
   },
   "outputs": [
    {
     "data": {
      "text/plain": [
       "{'alpha': 0.001}"
      ]
     },
     "execution_count": 23,
     "metadata": {},
     "output_type": "execute_result"
    }
   ],
   "source": [
    "model_cv.best_params_"
   ]
  },
  {
   "cell_type": "code",
   "execution_count": 24,
   "metadata": {},
   "outputs": [
    {
     "data": {
      "text/plain": [
       "Lasso(alpha=0.001)"
      ]
     },
     "execution_count": 24,
     "metadata": {},
     "output_type": "execute_result"
    }
   ],
   "source": [
    "lasso_model = Lasso(alpha=0.001)\n",
    "lasso_model.fit(X_train, y_train)"
   ]
  },
  {
   "cell_type": "code",
   "execution_count": 25,
   "metadata": {},
   "outputs": [],
   "source": [
    "y_train_pred = lasso_model.predict(X_train)\n",
    "train_rmse = mean_squared_error(y_train, y_train_pred, squared=False)"
   ]
  },
  {
   "cell_type": "code",
   "execution_count": 26,
   "metadata": {},
   "outputs": [],
   "source": [
    "y_pred = lasso_model.predict(X_val)\n",
    "val_rmse = mean_squared_error(y_val, y_pred, squared=False)"
   ]
  },
  {
   "cell_type": "code",
   "execution_count": 27,
   "metadata": {},
   "outputs": [],
   "source": [
    "y_pred_test = lasso_model.predict(X_test)\n",
    "test_rmse = mean_squared_error(y_test, y_pred_test, squared=False)"
   ]
  },
  {
   "cell_type": "markdown",
   "metadata": {
    "id": "ENg88jvmhe0G"
   },
   "source": [
    "### 9. Assess Model Performance"
   ]
  },
  {
   "cell_type": "code",
   "execution_count": 28,
   "metadata": {
    "id": "5IghUgjnhe0G"
   },
   "outputs": [
    {
     "name": "stdout",
     "output_type": "stream",
     "text": [
      "Root Mean Squared Error (RMSE) on Training Set: 0.872\n",
      "Root Mean Squared Error (RMSE) on Validation Set: 0.868\n",
      "Root Mean Squared Error (RMSE) for Testing Set: 0.843\n"
     ]
    }
   ],
   "source": [
    "model_train_perf = train_rmse.round(3)\n",
    "model_valid_perf = val_rmse.round(3)\n",
    "model_test_perf = test_rmse.round(3)\n",
    "\n",
    "print(\"Root Mean Squared Error (RMSE) on Training Set:\", model_train_perf)\n",
    "print(\"Root Mean Squared Error (RMSE) on Validation Set:\", model_valid_perf)\n",
    "print(\"Root Mean Squared Error (RMSE) for Testing Set:\", model_test_perf)"
   ]
  },
  {
   "cell_type": "markdown",
   "metadata": {
    "id": "CZacGDyzhe0H"
   },
   "source": [
    "The observations made are the following:\n",
    "\n",
    "1. We observe similar scores in Lasso Regularization as we see in ridge regression and linear regression once the alpha hyperparamter tuning is worked on.\n",
    "2. This indicates a good usage of the KFold method to ensure the best RMSE scored is derived from the Lasso model."
   ]
  },
  {
   "cell_type": "markdown",
   "metadata": {},
   "source": [
    "### 10. Reference\n",
    "\n",
    "[1]: Ridge and Lasso Regression in Python | Complete Tutorial (Updated 2024) - Aarshay Jain - 11 Jan, 2024 - Analytics Vidhya - https://www.analyticsvidhya.com/blog/2016/01/ridge-lasso-regression-python-complete-tutorial/#:~:text=Lasso%20regression%20is%20a%20regularization,i.e.%20models%20with%20fewer%20parameters)"
   ]
  },
  {
   "cell_type": "code",
   "execution_count": null,
   "metadata": {},
   "outputs": [],
   "source": []
  }
 ],
 "metadata": {
  "colab": {
   "provenance": []
  },
  "kernelspec": {
   "display_name": "Python 3 (ipykernel)",
   "language": "python",
   "name": "python3"
  },
  "language_info": {
   "codemirror_mode": {
    "name": "ipython",
    "version": 3
   },
   "file_extension": ".py",
   "mimetype": "text/x-python",
   "name": "python",
   "nbconvert_exporter": "python",
   "pygments_lexer": "ipython3",
   "version": "3.9.13"
  }
 },
 "nbformat": 4,
 "nbformat_minor": 1
}
