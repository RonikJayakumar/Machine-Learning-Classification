{
 "cells": [
  {
   "cell_type": "markdown",
   "metadata": {
    "id": "uQ6wc2HE0pke"
   },
   "source": [
    "# Machine Learning Assesstment 1 Experiment 5\n",
    "## K Nearest Neighbors\n",
    "\n"
   ]
  },
  {
   "cell_type": "markdown",
   "metadata": {
    "id": "tQgxLRrvjiJb"
   },
   "source": [
    "## Context\n"
   ]
  },
  {
   "cell_type": "markdown",
   "metadata": {
    "id": "KFVpE17Ahezu"
   },
   "source": [
    "### 0. Import Packages"
   ]
  },
  {
   "cell_type": "code",
   "execution_count": 1,
   "metadata": {
    "id": "u7pv3da6hezu"
   },
   "outputs": [
    {
     "name": "stdout",
     "output_type": "stream",
     "text": [
      "Requirement already satisfied: pandas==2.1.1 in /Applications/anaconda3/lib/python3.11/site-packages (from -r https://raw.githubusercontent.com/aso-uts/labs_datasets/main/36106-mlaa/requirements.txt (line 1)) (2.1.1)\n",
      "Requirement already satisfied: scikit-learn==1.2.2 in /Applications/anaconda3/lib/python3.11/site-packages (from -r https://raw.githubusercontent.com/aso-uts/labs_datasets/main/36106-mlaa/requirements.txt (line 2)) (1.2.2)\n",
      "Requirement already satisfied: altair==4.2.2 in /Applications/anaconda3/lib/python3.11/site-packages (from -r https://raw.githubusercontent.com/aso-uts/labs_datasets/main/36106-mlaa/requirements.txt (line 3)) (4.2.2)\n",
      "Requirement already satisfied: numpy>=1.23.2 in /Applications/anaconda3/lib/python3.11/site-packages (from pandas==2.1.1->-r https://raw.githubusercontent.com/aso-uts/labs_datasets/main/36106-mlaa/requirements.txt (line 1)) (1.24.3)\n",
      "Requirement already satisfied: python-dateutil>=2.8.2 in /Applications/anaconda3/lib/python3.11/site-packages (from pandas==2.1.1->-r https://raw.githubusercontent.com/aso-uts/labs_datasets/main/36106-mlaa/requirements.txt (line 1)) (2.8.2)\n",
      "Requirement already satisfied: pytz>=2020.1 in /Applications/anaconda3/lib/python3.11/site-packages (from pandas==2.1.1->-r https://raw.githubusercontent.com/aso-uts/labs_datasets/main/36106-mlaa/requirements.txt (line 1)) (2023.3.post1)\n",
      "Requirement already satisfied: tzdata>=2022.1 in /Applications/anaconda3/lib/python3.11/site-packages (from pandas==2.1.1->-r https://raw.githubusercontent.com/aso-uts/labs_datasets/main/36106-mlaa/requirements.txt (line 1)) (2023.3)\n",
      "Requirement already satisfied: scipy>=1.3.2 in /Applications/anaconda3/lib/python3.11/site-packages (from scikit-learn==1.2.2->-r https://raw.githubusercontent.com/aso-uts/labs_datasets/main/36106-mlaa/requirements.txt (line 2)) (1.11.1)\n",
      "Requirement already satisfied: joblib>=1.1.1 in /Applications/anaconda3/lib/python3.11/site-packages (from scikit-learn==1.2.2->-r https://raw.githubusercontent.com/aso-uts/labs_datasets/main/36106-mlaa/requirements.txt (line 2)) (1.2.0)\n",
      "Requirement already satisfied: threadpoolctl>=2.0.0 in /Applications/anaconda3/lib/python3.11/site-packages (from scikit-learn==1.2.2->-r https://raw.githubusercontent.com/aso-uts/labs_datasets/main/36106-mlaa/requirements.txt (line 2)) (2.2.0)\n",
      "Requirement already satisfied: entrypoints in /Applications/anaconda3/lib/python3.11/site-packages (from altair==4.2.2->-r https://raw.githubusercontent.com/aso-uts/labs_datasets/main/36106-mlaa/requirements.txt (line 3)) (0.4)\n",
      "Requirement already satisfied: jinja2 in /Applications/anaconda3/lib/python3.11/site-packages (from altair==4.2.2->-r https://raw.githubusercontent.com/aso-uts/labs_datasets/main/36106-mlaa/requirements.txt (line 3)) (3.1.2)\n",
      "Requirement already satisfied: jsonschema>=3.0 in /Applications/anaconda3/lib/python3.11/site-packages (from altair==4.2.2->-r https://raw.githubusercontent.com/aso-uts/labs_datasets/main/36106-mlaa/requirements.txt (line 3)) (4.17.3)\n",
      "Requirement already satisfied: toolz in /Applications/anaconda3/lib/python3.11/site-packages (from altair==4.2.2->-r https://raw.githubusercontent.com/aso-uts/labs_datasets/main/36106-mlaa/requirements.txt (line 3)) (0.12.0)\n",
      "Requirement already satisfied: attrs>=17.4.0 in /Applications/anaconda3/lib/python3.11/site-packages (from jsonschema>=3.0->altair==4.2.2->-r https://raw.githubusercontent.com/aso-uts/labs_datasets/main/36106-mlaa/requirements.txt (line 3)) (22.1.0)\n",
      "Requirement already satisfied: pyrsistent!=0.17.0,!=0.17.1,!=0.17.2,>=0.14.0 in /Applications/anaconda3/lib/python3.11/site-packages (from jsonschema>=3.0->altair==4.2.2->-r https://raw.githubusercontent.com/aso-uts/labs_datasets/main/36106-mlaa/requirements.txt (line 3)) (0.18.0)\n",
      "Requirement already satisfied: six>=1.5 in /Applications/anaconda3/lib/python3.11/site-packages (from python-dateutil>=2.8.2->pandas==2.1.1->-r https://raw.githubusercontent.com/aso-uts/labs_datasets/main/36106-mlaa/requirements.txt (line 1)) (1.16.0)\n",
      "Requirement already satisfied: MarkupSafe>=2.0 in /Applications/anaconda3/lib/python3.11/site-packages (from jinja2->altair==4.2.2->-r https://raw.githubusercontent.com/aso-uts/labs_datasets/main/36106-mlaa/requirements.txt (line 3)) (2.1.1)\n"
     ]
    }
   ],
   "source": [
    "! pip install -r https://raw.githubusercontent.com/aso-uts/labs_datasets/main/36106-mlaa/requirements.txt"
   ]
  },
  {
   "cell_type": "code",
   "execution_count": 2,
   "metadata": {
    "id": "X3l_Iffyhezx"
   },
   "outputs": [],
   "source": [
    "import pandas as pd\n",
    "import numpy as np\n",
    "import matplotlib.pyplot as plt\n",
    "import seaborn as sns\n",
    "from datetime import datetime\n",
    "from sklearn.model_selection import train_test_split, GridSearchCV\n",
    "from sklearn.neighbors import KNeighborsRegressor\n",
    "from sklearn.preprocessing import StandardScaler, LabelEncoder\n",
    "from sklearn.metrics import mean_squared_error\n",
    "from scipy.stats import f_oneway"
   ]
  },
  {
   "cell_type": "markdown",
   "metadata": {
    "id": "_NCwQQFkU3v5"
   },
   "source": [
    "### 1.   Load Dataset"
   ]
  },
  {
   "cell_type": "code",
   "execution_count": 3,
   "metadata": {
    "id": "SiroVmhn9_HP"
   },
   "outputs": [],
   "source": [
    "train = pd.read_csv('/Users/ronikj/Downloads/salary_training.csv')"
   ]
  },
  {
   "cell_type": "code",
   "execution_count": 4,
   "metadata": {
    "id": "Q1iETWjDftMg",
    "scrolled": true
   },
   "outputs": [
    {
     "data": {
      "text/html": [
       "<div>\n",
       "<style scoped>\n",
       "    .dataframe tbody tr th:only-of-type {\n",
       "        vertical-align: middle;\n",
       "    }\n",
       "\n",
       "    .dataframe tbody tr th {\n",
       "        vertical-align: top;\n",
       "    }\n",
       "\n",
       "    .dataframe thead th {\n",
       "        text-align: right;\n",
       "    }\n",
       "</style>\n",
       "<table border=\"1\" class=\"dataframe\">\n",
       "  <thead>\n",
       "    <tr style=\"text-align: right;\">\n",
       "      <th></th>\n",
       "      <th>id</th>\n",
       "      <th>gender</th>\n",
       "      <th>dob</th>\n",
       "      <th>10percentage</th>\n",
       "      <th>12graduation</th>\n",
       "      <th>12percentage</th>\n",
       "      <th>collegeid</th>\n",
       "      <th>collegetier</th>\n",
       "      <th>degree</th>\n",
       "      <th>specialization</th>\n",
       "      <th>...</th>\n",
       "      <th>mechanicalengg</th>\n",
       "      <th>electricalengg</th>\n",
       "      <th>telecomengg</th>\n",
       "      <th>civilengg</th>\n",
       "      <th>conscientiousness</th>\n",
       "      <th>agreeableness</th>\n",
       "      <th>extraversion</th>\n",
       "      <th>nueroticism</th>\n",
       "      <th>openess_to_experience</th>\n",
       "      <th>salary</th>\n",
       "    </tr>\n",
       "  </thead>\n",
       "  <tbody>\n",
       "    <tr>\n",
       "      <th>0</th>\n",
       "      <td>604399</td>\n",
       "      <td>f</td>\n",
       "      <td>1990-10-22</td>\n",
       "      <td>87.80</td>\n",
       "      <td>2009</td>\n",
       "      <td>84.00</td>\n",
       "      <td>6920</td>\n",
       "      <td>1</td>\n",
       "      <td>B.Tech/B.E.</td>\n",
       "      <td>instrumentation and control engineering</td>\n",
       "      <td>...</td>\n",
       "      <td>-1</td>\n",
       "      <td>-1</td>\n",
       "      <td>-1</td>\n",
       "      <td>-1</td>\n",
       "      <td>-0.1590</td>\n",
       "      <td>0.3789</td>\n",
       "      <td>1.2396</td>\n",
       "      <td>0.14590</td>\n",
       "      <td>0.2889</td>\n",
       "      <td>445000</td>\n",
       "    </tr>\n",
       "    <tr>\n",
       "      <th>1</th>\n",
       "      <td>988334</td>\n",
       "      <td>m</td>\n",
       "      <td>1990-05-15</td>\n",
       "      <td>57.00</td>\n",
       "      <td>2010</td>\n",
       "      <td>64.50</td>\n",
       "      <td>6624</td>\n",
       "      <td>2</td>\n",
       "      <td>B.Tech/B.E.</td>\n",
       "      <td>computer science &amp; engineering</td>\n",
       "      <td>...</td>\n",
       "      <td>-1</td>\n",
       "      <td>-1</td>\n",
       "      <td>-1</td>\n",
       "      <td>-1</td>\n",
       "      <td>1.1336</td>\n",
       "      <td>0.0459</td>\n",
       "      <td>1.2396</td>\n",
       "      <td>0.52620</td>\n",
       "      <td>-0.2859</td>\n",
       "      <td>110000</td>\n",
       "    </tr>\n",
       "    <tr>\n",
       "      <th>2</th>\n",
       "      <td>301647</td>\n",
       "      <td>m</td>\n",
       "      <td>1989-08-21</td>\n",
       "      <td>77.33</td>\n",
       "      <td>2007</td>\n",
       "      <td>85.17</td>\n",
       "      <td>9084</td>\n",
       "      <td>2</td>\n",
       "      <td>B.Tech/B.E.</td>\n",
       "      <td>electronics &amp; telecommunications</td>\n",
       "      <td>...</td>\n",
       "      <td>-1</td>\n",
       "      <td>-1</td>\n",
       "      <td>260</td>\n",
       "      <td>-1</td>\n",
       "      <td>0.5100</td>\n",
       "      <td>-0.1232</td>\n",
       "      <td>1.5428</td>\n",
       "      <td>-0.29020</td>\n",
       "      <td>-0.2875</td>\n",
       "      <td>255000</td>\n",
       "    </tr>\n",
       "    <tr>\n",
       "      <th>3</th>\n",
       "      <td>582313</td>\n",
       "      <td>m</td>\n",
       "      <td>1991-05-04</td>\n",
       "      <td>84.30</td>\n",
       "      <td>2009</td>\n",
       "      <td>86.00</td>\n",
       "      <td>8195</td>\n",
       "      <td>1</td>\n",
       "      <td>B.Tech/B.E.</td>\n",
       "      <td>computer science &amp; engineering</td>\n",
       "      <td>...</td>\n",
       "      <td>-1</td>\n",
       "      <td>-1</td>\n",
       "      <td>-1</td>\n",
       "      <td>-1</td>\n",
       "      <td>-0.4463</td>\n",
       "      <td>0.2124</td>\n",
       "      <td>0.3174</td>\n",
       "      <td>0.27270</td>\n",
       "      <td>0.4805</td>\n",
       "      <td>420000</td>\n",
       "    </tr>\n",
       "    <tr>\n",
       "      <th>4</th>\n",
       "      <td>339001</td>\n",
       "      <td>f</td>\n",
       "      <td>1990-10-30</td>\n",
       "      <td>82.00</td>\n",
       "      <td>2008</td>\n",
       "      <td>75.00</td>\n",
       "      <td>4889</td>\n",
       "      <td>2</td>\n",
       "      <td>B.Tech/B.E.</td>\n",
       "      <td>biotechnology</td>\n",
       "      <td>...</td>\n",
       "      <td>-1</td>\n",
       "      <td>-1</td>\n",
       "      <td>-1</td>\n",
       "      <td>-1</td>\n",
       "      <td>-1.4992</td>\n",
       "      <td>-0.7473</td>\n",
       "      <td>-1.0697</td>\n",
       "      <td>0.06223</td>\n",
       "      <td>0.1864</td>\n",
       "      <td>200000</td>\n",
       "    </tr>\n",
       "  </tbody>\n",
       "</table>\n",
       "<p>5 rows × 31 columns</p>\n",
       "</div>"
      ],
      "text/plain": [
       "       id gender         dob  10percentage  12graduation  12percentage  \\\n",
       "0  604399      f  1990-10-22         87.80          2009         84.00   \n",
       "1  988334      m  1990-05-15         57.00          2010         64.50   \n",
       "2  301647      m  1989-08-21         77.33          2007         85.17   \n",
       "3  582313      m  1991-05-04         84.30          2009         86.00   \n",
       "4  339001      f  1990-10-30         82.00          2008         75.00   \n",
       "\n",
       "   collegeid  collegetier       degree  \\\n",
       "0       6920            1  B.Tech/B.E.   \n",
       "1       6624            2  B.Tech/B.E.   \n",
       "2       9084            2  B.Tech/B.E.   \n",
       "3       8195            1  B.Tech/B.E.   \n",
       "4       4889            2  B.Tech/B.E.   \n",
       "\n",
       "                            specialization  ...  mechanicalengg  \\\n",
       "0  instrumentation and control engineering  ...              -1   \n",
       "1           computer science & engineering  ...              -1   \n",
       "2         electronics & telecommunications  ...              -1   \n",
       "3           computer science & engineering  ...              -1   \n",
       "4                            biotechnology  ...              -1   \n",
       "\n",
       "   electricalengg  telecomengg  civilengg  conscientiousness  agreeableness  \\\n",
       "0              -1           -1         -1            -0.1590         0.3789   \n",
       "1              -1           -1         -1             1.1336         0.0459   \n",
       "2              -1          260         -1             0.5100        -0.1232   \n",
       "3              -1           -1         -1            -0.4463         0.2124   \n",
       "4              -1           -1         -1            -1.4992        -0.7473   \n",
       "\n",
       "   extraversion  nueroticism  openess_to_experience  salary  \n",
       "0        1.2396      0.14590                 0.2889  445000  \n",
       "1        1.2396      0.52620                -0.2859  110000  \n",
       "2        1.5428     -0.29020                -0.2875  255000  \n",
       "3        0.3174      0.27270                 0.4805  420000  \n",
       "4       -1.0697      0.06223                 0.1864  200000  \n",
       "\n",
       "[5 rows x 31 columns]"
      ]
     },
     "execution_count": 4,
     "metadata": {},
     "output_type": "execute_result"
    }
   ],
   "source": [
    "train.head()"
   ]
  },
  {
   "cell_type": "code",
   "execution_count": 5,
   "metadata": {},
   "outputs": [
    {
     "data": {
      "text/plain": [
       "(2998, 31)"
      ]
     },
     "execution_count": 5,
     "metadata": {},
     "output_type": "execute_result"
    }
   ],
   "source": [
    "train.shape"
   ]
  },
  {
   "cell_type": "markdown",
   "metadata": {
    "id": "8Ivx4xzphezz"
   },
   "source": [
    "### 2. Explore Dataset"
   ]
  },
  {
   "cell_type": "markdown",
   "metadata": {
    "id": "SeVo97rOhezz"
   },
   "source": [
    "This step will be skipped as data exploration has been performed in Experiment 1."
   ]
  },
  {
   "cell_type": "markdown",
   "metadata": {
    "id": "M4XLRCm9hez2"
   },
   "source": [
    "### 3. Explore Target variable"
   ]
  },
  {
   "cell_type": "code",
   "execution_count": 6,
   "metadata": {
    "id": "NpX52MLIhez2"
   },
   "outputs": [],
   "source": [
    "target = train['salary']"
   ]
  },
  {
   "cell_type": "code",
   "execution_count": 7,
   "metadata": {
    "id": "o7N7UUAEhez3",
    "scrolled": false
   },
   "outputs": [
    {
     "data": {
      "image/png": "[encoded data removed]",
      "text/plain": [
       "<Figure size 800x600 with 1 Axes>"
      ]
     },
     "metadata": {},
     "output_type": "display_data"
    }
   ],
   "source": [
    "plt.figure(figsize=(8, 6))\n",
    "sns.boxplot(x=target)\n",
    "plt.title('Boxplot of Salary')\n",
    "plt.xlabel('Salary')\n",
    "plt.show()"
   ]
  },
  {
   "cell_type": "markdown",
   "metadata": {
    "id": "dqVN0F2shez3"
   },
   "source": [
    "### 4. Explore Variables of Interest"
   ]
  },
  {
   "cell_type": "code",
   "execution_count": 10,
   "metadata": {},
   "outputs": [],
   "source": [
    "train['dob'] = pd.to_datetime(train['dob'])\n",
    "current_year = datetime.now()\n",
    "train['dob'] = current_year.year - train['dob'].dt.year\n",
    "train.rename(columns={'dob': 'age'}, inplace=True)"
   ]
  },
  {
   "cell_type": "code",
   "execution_count": 11,
   "metadata": {
    "id": "vA52cCK8hez3"
   },
   "outputs": [
    {
     "data": {
      "text/html": [
       "<div>\n",
       "<style scoped>\n",
       "    .dataframe tbody tr th:only-of-type {\n",
       "        vertical-align: middle;\n",
       "    }\n",
       "\n",
       "    .dataframe tbody tr th {\n",
       "        vertical-align: top;\n",
       "    }\n",
       "\n",
       "    .dataframe thead th {\n",
       "        text-align: right;\n",
       "    }\n",
       "</style>\n",
       "<table border=\"1\" class=\"dataframe\">\n",
       "  <thead>\n",
       "    <tr style=\"text-align: right;\">\n",
       "      <th></th>\n",
       "      <th>quant</th>\n",
       "      <th>logical</th>\n",
       "      <th>10percentage</th>\n",
       "      <th>english</th>\n",
       "      <th>collegetier</th>\n",
       "      <th>12percentage</th>\n",
       "      <th>computerprogramming</th>\n",
       "      <th>domain</th>\n",
       "      <th>age</th>\n",
       "      <th>salary</th>\n",
       "    </tr>\n",
       "  </thead>\n",
       "  <tbody>\n",
       "    <tr>\n",
       "      <th>0</th>\n",
       "      <td>810</td>\n",
       "      <td>665</td>\n",
       "      <td>87.80</td>\n",
       "      <td>650</td>\n",
       "      <td>1</td>\n",
       "      <td>84.00</td>\n",
       "      <td>485</td>\n",
       "      <td>0.694479</td>\n",
       "      <td>34</td>\n",
       "      <td>445000</td>\n",
       "    </tr>\n",
       "    <tr>\n",
       "      <th>1</th>\n",
       "      <td>210</td>\n",
       "      <td>435</td>\n",
       "      <td>57.00</td>\n",
       "      <td>440</td>\n",
       "      <td>2</td>\n",
       "      <td>64.50</td>\n",
       "      <td>365</td>\n",
       "      <td>0.342315</td>\n",
       "      <td>34</td>\n",
       "      <td>110000</td>\n",
       "    </tr>\n",
       "    <tr>\n",
       "      <th>2</th>\n",
       "      <td>505</td>\n",
       "      <td>475</td>\n",
       "      <td>77.33</td>\n",
       "      <td>485</td>\n",
       "      <td>2</td>\n",
       "      <td>85.17</td>\n",
       "      <td>-1</td>\n",
       "      <td>0.824666</td>\n",
       "      <td>35</td>\n",
       "      <td>255000</td>\n",
       "    </tr>\n",
       "    <tr>\n",
       "      <th>3</th>\n",
       "      <td>635</td>\n",
       "      <td>620</td>\n",
       "      <td>84.30</td>\n",
       "      <td>675</td>\n",
       "      <td>1</td>\n",
       "      <td>86.00</td>\n",
       "      <td>655</td>\n",
       "      <td>0.990009</td>\n",
       "      <td>33</td>\n",
       "      <td>420000</td>\n",
       "    </tr>\n",
       "    <tr>\n",
       "      <th>4</th>\n",
       "      <td>365</td>\n",
       "      <td>495</td>\n",
       "      <td>82.00</td>\n",
       "      <td>575</td>\n",
       "      <td>2</td>\n",
       "      <td>75.00</td>\n",
       "      <td>315</td>\n",
       "      <td>0.278457</td>\n",
       "      <td>34</td>\n",
       "      <td>200000</td>\n",
       "    </tr>\n",
       "  </tbody>\n",
       "</table>\n",
       "</div>"
      ],
      "text/plain": [
       "   quant  logical  10percentage  english  collegetier  12percentage  \\\n",
       "0    810      665         87.80      650            1         84.00   \n",
       "1    210      435         57.00      440            2         64.50   \n",
       "2    505      475         77.33      485            2         85.17   \n",
       "3    635      620         84.30      675            1         86.00   \n",
       "4    365      495         82.00      575            2         75.00   \n",
       "\n",
       "   computerprogramming    domain  age  salary  \n",
       "0                  485  0.694479   34  445000  \n",
       "1                  365  0.342315   34  110000  \n",
       "2                   -1  0.824666   35  255000  \n",
       "3                  655  0.990009   33  420000  \n",
       "4                  315  0.278457   34  200000  "
      ]
     },
     "execution_count": 11,
     "metadata": {},
     "output_type": "execute_result"
    }
   ],
   "source": [
    "train_num = train[['quant', 'logical', '10percentage', 'english', 'collegetier', '12percentage',\n",
    "                            'computerprogramming', 'domain', 'age', 'salary']]\n",
    "\n",
    "train_num.head()"
   ]
  },
  {
   "cell_type": "code",
   "execution_count": 12,
   "metadata": {
    "id": "3iFw1jLzhez3"
   },
   "outputs": [
    {
     "data": {
      "text/plain": [
       "0    instrumentation and control engineering\n",
       "1             computer science & engineering\n",
       "2           electronics & telecommunications\n",
       "3             computer science & engineering\n",
       "4                              biotechnology\n",
       "Name: specialization, dtype: object"
      ]
     },
     "execution_count": 12,
     "metadata": {},
     "output_type": "execute_result"
    }
   ],
   "source": [
    "train_cat = train['specialization']\n",
    "train_cat.head()"
   ]
  },
  {
   "cell_type": "code",
   "execution_count": null,
   "metadata": {
    "id": "Ud6XPqhVhez3"
   },
   "outputs": [],
   "source": []
  },
  {
   "cell_type": "markdown",
   "metadata": {
    "id": "miQ6SiKlscLx"
   },
   "source": [
    "### 5. Prepare Data"
   ]
  },
  {
   "cell_type": "code",
   "execution_count": 13,
   "metadata": {
    "id": "HrXR7NCLtwxB"
   },
   "outputs": [
    {
     "data": {
      "image/png": "[encoded data removed]",
      "text/plain": [
       "<Figure size 1200x800 with 10 Axes>"
      ]
     },
     "metadata": {},
     "output_type": "display_data"
    }
   ],
   "source": [
    "fig, axes = plt.subplots(nrows=5, ncols=2, figsize=(12, 8))\n",
    "\n",
    "sns.boxplot(x=train_num['quant'], ax=axes[0, 0])\n",
    "axes[0, 0].set_title('Quant')\n",
    "\n",
    "sns.boxplot(x=train_num['logical'], ax=axes[0, 1])\n",
    "axes[0, 1].set_title('Logical')\n",
    "\n",
    "sns.boxplot(x=train_num['10percentage'], ax=axes[1, 0])\n",
    "axes[1, 0].set_title('10th Percentage')\n",
    "\n",
    "sns.boxplot(x=train_num['english'], ax=axes[1, 1])\n",
    "axes[1, 1].set_title('English')\n",
    "\n",
    "sns.boxplot(x=train_num['collegetier'], ax=axes[2, 0])\n",
    "axes[2, 0].set_title('College Tier')\n",
    "\n",
    "sns.boxplot(x=train_num['12percentage'], ax=axes[2, 1])\n",
    "axes[2, 1].set_title('12th Percentage')\n",
    "\n",
    "sns.boxplot(x=train_num['computerprogramming'], ax=axes[3, 0])\n",
    "axes[3, 0].set_title('Computer Programming')\n",
    "\n",
    "sns.boxplot(x=train_num['domain'], ax=axes[3, 1])\n",
    "axes[3, 1].set_title('Domain')\n",
    "\n",
    "sns.boxplot(x=train_num['age'], ax=axes[4, 0])\n",
    "axes[4, 0].set_title('Age')\n",
    "\n",
    "plt.tight_layout()\n",
    "plt.show()"
   ]
  },
  {
   "cell_type": "code",
   "execution_count": 15,
   "metadata": {},
   "outputs": [
    {
     "name": "stderr",
     "output_type": "stream",
     "text": [
      "/var/folders/v6/v_b2mbgd09n8qd652j7jycg80000gn/T/ipykernel_34148/2430332408.py:8: FutureWarning: Downcasting integer-dtype results in .where is deprecated and will change in a future version. To retain the old behavior, explicitly cast the results to the desired dtype.\n",
      "  train_num = train_num.clip(lower=lower_bound, upper=upper_bound, axis=1)\n"
     ]
    }
   ],
   "source": [
    "Q1 = train_num.quantile(0.25)\n",
    "Q3 = train_num.quantile(0.75)\n",
    "IQR = Q3 - Q1\n",
    "\n",
    "lower_bound = Q1 - 1.5 * IQR\n",
    "upper_bound = Q3 + 1.5 * IQR\n",
    "\n",
    "train_num = train_num.clip(lower=lower_bound, upper=upper_bound, axis=1)"
   ]
  },
  {
   "cell_type": "code",
   "execution_count": 16,
   "metadata": {},
   "outputs": [
    {
     "data": {
      "text/plain": [
       "(2998, 10)"
      ]
     },
     "execution_count": 16,
     "metadata": {},
     "output_type": "execute_result"
    }
   ],
   "source": [
    "train_num.shape"
   ]
  },
  {
   "cell_type": "code",
   "execution_count": 17,
   "metadata": {
    "id": "qG0Yn0Yvhez4"
   },
   "outputs": [
    {
     "data": {
      "text/plain": [
       "(2998, 10)"
      ]
     },
     "execution_count": 17,
     "metadata": {},
     "output_type": "execute_result"
    }
   ],
   "source": [
    "indices = train_num[train_num['computerprogramming'] == -1].index\n",
    "\n",
    "train_num.loc[indices, 'computerprogramming'] = np.nan\n",
    "\n",
    "mean_value = train_num['computerprogramming'].mean()\n",
    "\n",
    "train_num['computerprogramming'].fillna(mean_value, inplace=True)\n",
    "\n",
    "train_num.shape"
   ]
  },
  {
   "cell_type": "code",
   "execution_count": 18,
   "metadata": {},
   "outputs": [
    {
     "data": {
      "text/html": [
       "<div>\n",
       "<style scoped>\n",
       "    .dataframe tbody tr th:only-of-type {\n",
       "        vertical-align: middle;\n",
       "    }\n",
       "\n",
       "    .dataframe tbody tr th {\n",
       "        vertical-align: top;\n",
       "    }\n",
       "\n",
       "    .dataframe thead th {\n",
       "        text-align: right;\n",
       "    }\n",
       "</style>\n",
       "<table border=\"1\" class=\"dataframe\">\n",
       "  <thead>\n",
       "    <tr style=\"text-align: right;\">\n",
       "      <th></th>\n",
       "      <th>quant</th>\n",
       "      <th>logical</th>\n",
       "      <th>10percentage</th>\n",
       "      <th>english</th>\n",
       "      <th>collegetier</th>\n",
       "      <th>12percentage</th>\n",
       "      <th>computerprogramming</th>\n",
       "      <th>domain</th>\n",
       "      <th>age</th>\n",
       "      <th>salary</th>\n",
       "    </tr>\n",
       "  </thead>\n",
       "  <tbody>\n",
       "    <tr>\n",
       "      <th>0</th>\n",
       "      <td>810.0</td>\n",
       "      <td>665.0</td>\n",
       "      <td>87.80</td>\n",
       "      <td>650.0</td>\n",
       "      <td>2</td>\n",
       "      <td>84.00</td>\n",
       "      <td>485.00000</td>\n",
       "      <td>0.694479</td>\n",
       "      <td>34.0</td>\n",
       "      <td>445000</td>\n",
       "    </tr>\n",
       "    <tr>\n",
       "      <th>1</th>\n",
       "      <td>210.0</td>\n",
       "      <td>435.0</td>\n",
       "      <td>57.00</td>\n",
       "      <td>440.0</td>\n",
       "      <td>2</td>\n",
       "      <td>64.50</td>\n",
       "      <td>365.00000</td>\n",
       "      <td>0.342315</td>\n",
       "      <td>34.0</td>\n",
       "      <td>110000</td>\n",
       "    </tr>\n",
       "    <tr>\n",
       "      <th>2</th>\n",
       "      <td>505.0</td>\n",
       "      <td>475.0</td>\n",
       "      <td>77.33</td>\n",
       "      <td>485.0</td>\n",
       "      <td>2</td>\n",
       "      <td>85.17</td>\n",
       "      <td>449.54983</td>\n",
       "      <td>0.824666</td>\n",
       "      <td>35.0</td>\n",
       "      <td>255000</td>\n",
       "    </tr>\n",
       "    <tr>\n",
       "      <th>3</th>\n",
       "      <td>635.0</td>\n",
       "      <td>620.0</td>\n",
       "      <td>84.30</td>\n",
       "      <td>675.0</td>\n",
       "      <td>2</td>\n",
       "      <td>86.00</td>\n",
       "      <td>655.00000</td>\n",
       "      <td>0.990009</td>\n",
       "      <td>33.0</td>\n",
       "      <td>420000</td>\n",
       "    </tr>\n",
       "    <tr>\n",
       "      <th>4</th>\n",
       "      <td>365.0</td>\n",
       "      <td>495.0</td>\n",
       "      <td>82.00</td>\n",
       "      <td>575.0</td>\n",
       "      <td>2</td>\n",
       "      <td>75.00</td>\n",
       "      <td>315.00000</td>\n",
       "      <td>0.278457</td>\n",
       "      <td>34.0</td>\n",
       "      <td>200000</td>\n",
       "    </tr>\n",
       "  </tbody>\n",
       "</table>\n",
       "</div>"
      ],
      "text/plain": [
       "   quant  logical  10percentage  english  collegetier  12percentage  \\\n",
       "0  810.0    665.0         87.80    650.0            2         84.00   \n",
       "1  210.0    435.0         57.00    440.0            2         64.50   \n",
       "2  505.0    475.0         77.33    485.0            2         85.17   \n",
       "3  635.0    620.0         84.30    675.0            2         86.00   \n",
       "4  365.0    495.0         82.00    575.0            2         75.00   \n",
       "\n",
       "   computerprogramming    domain   age  salary  \n",
       "0            485.00000  0.694479  34.0  445000  \n",
       "1            365.00000  0.342315  34.0  110000  \n",
       "2            449.54983  0.824666  35.0  255000  \n",
       "3            655.00000  0.990009  33.0  420000  \n",
       "4            315.00000  0.278457  34.0  200000  "
      ]
     },
     "execution_count": 18,
     "metadata": {},
     "output_type": "execute_result"
    }
   ],
   "source": [
    "train_num.head()"
   ]
  },
  {
   "cell_type": "code",
   "execution_count": 19,
   "metadata": {},
   "outputs": [],
   "source": [
    "label = LabelEncoder()\n",
    "\n",
    "train_data_filtered = train[train.index.isin(train_num.index)]\n",
    "train_num['specialization'] = label.fit_transform(train_data_filtered['specialization'])"
   ]
  },
  {
   "cell_type": "code",
   "execution_count": 20,
   "metadata": {},
   "outputs": [
    {
     "data": {
      "text/html": [
       "<div>\n",
       "<style scoped>\n",
       "    .dataframe tbody tr th:only-of-type {\n",
       "        vertical-align: middle;\n",
       "    }\n",
       "\n",
       "    .dataframe tbody tr th {\n",
       "        vertical-align: top;\n",
       "    }\n",
       "\n",
       "    .dataframe thead th {\n",
       "        text-align: right;\n",
       "    }\n",
       "</style>\n",
       "<table border=\"1\" class=\"dataframe\">\n",
       "  <thead>\n",
       "    <tr style=\"text-align: right;\">\n",
       "      <th></th>\n",
       "      <th>quant</th>\n",
       "      <th>logical</th>\n",
       "      <th>10percentage</th>\n",
       "      <th>english</th>\n",
       "      <th>collegetier</th>\n",
       "      <th>12percentage</th>\n",
       "      <th>computerprogramming</th>\n",
       "      <th>domain</th>\n",
       "      <th>age</th>\n",
       "      <th>salary</th>\n",
       "      <th>specialization</th>\n",
       "    </tr>\n",
       "  </thead>\n",
       "  <tbody>\n",
       "    <tr>\n",
       "      <th>0</th>\n",
       "      <td>810.0</td>\n",
       "      <td>665.0</td>\n",
       "      <td>87.80</td>\n",
       "      <td>650.0</td>\n",
       "      <td>2</td>\n",
       "      <td>84.00</td>\n",
       "      <td>485.00000</td>\n",
       "      <td>0.694479</td>\n",
       "      <td>34.0</td>\n",
       "      <td>445000</td>\n",
       "      <td>33</td>\n",
       "    </tr>\n",
       "    <tr>\n",
       "      <th>1</th>\n",
       "      <td>210.0</td>\n",
       "      <td>435.0</td>\n",
       "      <td>57.00</td>\n",
       "      <td>440.0</td>\n",
       "      <td>2</td>\n",
       "      <td>64.50</td>\n",
       "      <td>365.00000</td>\n",
       "      <td>0.342315</td>\n",
       "      <td>34.0</td>\n",
       "      <td>110000</td>\n",
       "      <td>12</td>\n",
       "    </tr>\n",
       "    <tr>\n",
       "      <th>2</th>\n",
       "      <td>505.0</td>\n",
       "      <td>475.0</td>\n",
       "      <td>77.33</td>\n",
       "      <td>485.0</td>\n",
       "      <td>2</td>\n",
       "      <td>85.17</td>\n",
       "      <td>449.54983</td>\n",
       "      <td>0.824666</td>\n",
       "      <td>35.0</td>\n",
       "      <td>255000</td>\n",
       "      <td>19</td>\n",
       "    </tr>\n",
       "    <tr>\n",
       "      <th>3</th>\n",
       "      <td>635.0</td>\n",
       "      <td>620.0</td>\n",
       "      <td>84.30</td>\n",
       "      <td>675.0</td>\n",
       "      <td>2</td>\n",
       "      <td>86.00</td>\n",
       "      <td>655.00000</td>\n",
       "      <td>0.990009</td>\n",
       "      <td>33.0</td>\n",
       "      <td>420000</td>\n",
       "      <td>12</td>\n",
       "    </tr>\n",
       "    <tr>\n",
       "      <th>4</th>\n",
       "      <td>365.0</td>\n",
       "      <td>495.0</td>\n",
       "      <td>82.00</td>\n",
       "      <td>575.0</td>\n",
       "      <td>2</td>\n",
       "      <td>75.00</td>\n",
       "      <td>315.00000</td>\n",
       "      <td>0.278457</td>\n",
       "      <td>34.0</td>\n",
       "      <td>200000</td>\n",
       "      <td>4</td>\n",
       "    </tr>\n",
       "  </tbody>\n",
       "</table>\n",
       "</div>"
      ],
      "text/plain": [
       "   quant  logical  10percentage  english  collegetier  12percentage  \\\n",
       "0  810.0    665.0         87.80    650.0            2         84.00   \n",
       "1  210.0    435.0         57.00    440.0            2         64.50   \n",
       "2  505.0    475.0         77.33    485.0            2         85.17   \n",
       "3  635.0    620.0         84.30    675.0            2         86.00   \n",
       "4  365.0    495.0         82.00    575.0            2         75.00   \n",
       "\n",
       "   computerprogramming    domain   age  salary  specialization  \n",
       "0            485.00000  0.694479  34.0  445000              33  \n",
       "1            365.00000  0.342315  34.0  110000              12  \n",
       "2            449.54983  0.824666  35.0  255000              19  \n",
       "3            655.00000  0.990009  33.0  420000              12  \n",
       "4            315.00000  0.278457  34.0  200000               4  "
      ]
     },
     "execution_count": 20,
     "metadata": {},
     "output_type": "execute_result"
    }
   ],
   "source": [
    "train_num.head()"
   ]
  },
  {
   "cell_type": "code",
   "execution_count": 21,
   "metadata": {},
   "outputs": [
    {
     "data": {
      "text/html": [
       "<div>\n",
       "<style scoped>\n",
       "    .dataframe tbody tr th:only-of-type {\n",
       "        vertical-align: middle;\n",
       "    }\n",
       "\n",
       "    .dataframe tbody tr th {\n",
       "        vertical-align: top;\n",
       "    }\n",
       "\n",
       "    .dataframe thead th {\n",
       "        text-align: right;\n",
       "    }\n",
       "</style>\n",
       "<table border=\"1\" class=\"dataframe\">\n",
       "  <thead>\n",
       "    <tr style=\"text-align: right;\">\n",
       "      <th></th>\n",
       "      <th>quant</th>\n",
       "      <th>logical</th>\n",
       "      <th>10percentage</th>\n",
       "      <th>english</th>\n",
       "      <th>collegetier</th>\n",
       "      <th>12percentage</th>\n",
       "      <th>computerprogramming</th>\n",
       "      <th>domain</th>\n",
       "      <th>age</th>\n",
       "      <th>salary</th>\n",
       "      <th>specialization</th>\n",
       "    </tr>\n",
       "  </thead>\n",
       "  <tbody>\n",
       "    <tr>\n",
       "      <th>0</th>\n",
       "      <td>2.432643</td>\n",
       "      <td>1.892646</td>\n",
       "      <td>1.016186</td>\n",
       "      <td>1.420185</td>\n",
       "      <td>0.0</td>\n",
       "      <td>0.868785</td>\n",
       "      <td>4.136420e-01</td>\n",
       "      <td>0.421884</td>\n",
       "      <td>0.249636</td>\n",
       "      <td>1.094253</td>\n",
       "      <td>1.497270</td>\n",
       "    </tr>\n",
       "    <tr>\n",
       "      <th>1</th>\n",
       "      <td>-2.500658</td>\n",
       "      <td>-0.754060</td>\n",
       "      <td>-2.076659</td>\n",
       "      <td>-0.581010</td>\n",
       "      <td>0.0</td>\n",
       "      <td>-0.885233</td>\n",
       "      <td>-9.865498e-01</td>\n",
       "      <td>-0.568227</td>\n",
       "      <td>0.249636</td>\n",
       "      <td>-1.328135</td>\n",
       "      <td>-0.810604</td>\n",
       "    </tr>\n",
       "    <tr>\n",
       "      <th>2</th>\n",
       "      <td>-0.075118</td>\n",
       "      <td>-0.293763</td>\n",
       "      <td>-0.035181</td>\n",
       "      <td>-0.152183</td>\n",
       "      <td>0.0</td>\n",
       "      <td>0.974026</td>\n",
       "      <td>-6.632640e-16</td>\n",
       "      <td>0.787905</td>\n",
       "      <td>0.827781</td>\n",
       "      <td>-0.279638</td>\n",
       "      <td>-0.041313</td>\n",
       "    </tr>\n",
       "    <tr>\n",
       "      <th>3</th>\n",
       "      <td>0.993763</td>\n",
       "      <td>1.374812</td>\n",
       "      <td>0.664726</td>\n",
       "      <td>1.658423</td>\n",
       "      <td>0.0</td>\n",
       "      <td>1.048685</td>\n",
       "      <td>2.397247e+00</td>\n",
       "      <td>1.252765</td>\n",
       "      <td>-0.328509</td>\n",
       "      <td>0.913478</td>\n",
       "      <td>-0.810604</td>\n",
       "    </tr>\n",
       "    <tr>\n",
       "      <th>4</th>\n",
       "      <td>-1.226222</td>\n",
       "      <td>-0.063615</td>\n",
       "      <td>0.433767</td>\n",
       "      <td>0.705472</td>\n",
       "      <td>0.0</td>\n",
       "      <td>0.059238</td>\n",
       "      <td>-1.569963e+00</td>\n",
       "      <td>-0.747762</td>\n",
       "      <td>0.249636</td>\n",
       "      <td>-0.677344</td>\n",
       "      <td>-1.689794</td>\n",
       "    </tr>\n",
       "  </tbody>\n",
       "</table>\n",
       "</div>"
      ],
      "text/plain": [
       "      quant   logical  10percentage   english  collegetier  12percentage  \\\n",
       "0  2.432643  1.892646      1.016186  1.420185          0.0      0.868785   \n",
       "1 -2.500658 -0.754060     -2.076659 -0.581010          0.0     -0.885233   \n",
       "2 -0.075118 -0.293763     -0.035181 -0.152183          0.0      0.974026   \n",
       "3  0.993763  1.374812      0.664726  1.658423          0.0      1.048685   \n",
       "4 -1.226222 -0.063615      0.433767  0.705472          0.0      0.059238   \n",
       "\n",
       "   computerprogramming    domain       age    salary  specialization  \n",
       "0         4.136420e-01  0.421884  0.249636  1.094253        1.497270  \n",
       "1        -9.865498e-01 -0.568227  0.249636 -1.328135       -0.810604  \n",
       "2        -6.632640e-16  0.787905  0.827781 -0.279638       -0.041313  \n",
       "3         2.397247e+00  1.252765 -0.328509  0.913478       -0.810604  \n",
       "4        -1.569963e+00 -0.747762  0.249636 -0.677344       -1.689794  "
      ]
     },
     "execution_count": 21,
     "metadata": {},
     "output_type": "execute_result"
    }
   ],
   "source": [
    "numeric_columns = train_num.select_dtypes(include=['int64', 'float64']).columns\n",
    "scaler = StandardScaler()\n",
    "train_num[numeric_columns] = scaler.fit_transform(train_num[numeric_columns])\n",
    "\n",
    "train_num.head()"
   ]
  },
  {
   "cell_type": "markdown",
   "metadata": {
    "id": "N0S5LSAcjkvP"
   },
   "source": [
    "### 6. Split Dataset"
   ]
  },
  {
   "cell_type": "code",
   "execution_count": 33,
   "metadata": {
    "id": "ICjW0_-4TBvu"
   },
   "outputs": [
    {
     "name": "stdout",
     "output_type": "stream",
     "text": [
      "X_train shape: (2098, 10)\n",
      "X_test shape: (450, 10)\n",
      "X_val shape: (450, 10)\n",
      "y_train shape: (2098,)\n",
      "y_test shape: (450,)\n",
      "y_val shape: (450,)\n"
     ]
    }
   ],
   "source": [
    "X = train_num.drop(columns=['salary'])\n",
    "y = train_num['salary'] \n",
    "\n",
    "X_train, X_temp, y_train, y_temp = train_test_split(X, y, test_size=0.3, random_state=42)\n",
    "X_test, X_val, y_test, y_val = train_test_split(X_temp, y_temp, test_size=0.5, random_state=42)\n",
    "\n",
    "print(\"X_train shape:\", X_train.shape)\n",
    "print(\"X_test shape:\", X_test.shape)\n",
    "print(\"X_val shape:\", X_val.shape)\n",
    "print(\"y_train shape:\", y_train.shape)\n",
    "print(\"y_test shape:\", y_test.shape)\n",
    "print(\"y_val shape:\", y_val.shape)"
   ]
  },
  {
   "cell_type": "markdown",
   "metadata": {
    "id": "N8MNBrC4Zgz6"
   },
   "source": [
    "### 7. Baseline Model"
   ]
  },
  {
   "cell_type": "code",
   "execution_count": 34,
   "metadata": {
    "id": "Mh6epkAThez5"
   },
   "outputs": [
    {
     "data": {
      "text/plain": [
       "KNeighborsRegressor()"
      ]
     },
     "execution_count": 34,
     "metadata": {},
     "output_type": "execute_result"
    }
   ],
   "source": [
    "k = 5\n",
    "baseline_model = KNeighborsRegressor(n_neighbors=k)\n",
    "baseline_model.fit(X_train, y_train)"
   ]
  },
  {
   "cell_type": "code",
   "execution_count": 35,
   "metadata": {
    "id": "7We16YIYhez5"
   },
   "outputs": [],
   "source": [
    "y_train_pred = baseline_model.predict(X_train)\n",
    "train_rmse = mean_squared_error(y_train, y_train_pred, squared=False)"
   ]
  },
  {
   "cell_type": "code",
   "execution_count": 36,
   "metadata": {
    "id": "yQlcYIfThez5"
   },
   "outputs": [],
   "source": [
    "y_pred = baseline_model.predict(X_val)\n",
    "val_rmse = mean_squared_error(y_val, y_pred, squared=False)"
   ]
  },
  {
   "cell_type": "code",
   "execution_count": 37,
   "metadata": {
    "id": "x1Q3oxoNhez5"
   },
   "outputs": [
    {
     "name": "stdout",
     "output_type": "stream",
     "text": [
      "Root Mean Squared Error (RMSE) on Training Set: 0.782\n",
      "Root Mean Squared Error (RMSE) on Validation Set: 0.992\n"
     ]
    }
   ],
   "source": [
    "model_train_perf = train_rmse.round(3)\n",
    "model_valid_perf = val_rmse.round(3)\n",
    "\n",
    "print(\"Root Mean Squared Error (RMSE) on Training Set:\", model_train_perf)\n",
    "print(\"Root Mean Squared Error (RMSE) on Validation Set:\", model_valid_perf)"
   ]
  },
  {
   "cell_type": "markdown",
   "metadata": {
    "id": "ocharoc2hez6"
   },
   "source": [
    "We see a high amount of overfitting in the baseline model when the usual value of k=5 is implemented"
   ]
  },
  {
   "cell_type": "markdown",
   "metadata": {
    "id": "JUEbyrm2ZzhL"
   },
   "source": [
    "### 8. Train Machine Learning Model"
   ]
  },
  {
   "cell_type": "code",
   "execution_count": 38,
   "metadata": {
    "id": "PTd6xDMVhez7"
   },
   "outputs": [
    {
     "name": "stdout",
     "output_type": "stream",
     "text": [
      "Best value of k: 49\n"
     ]
    }
   ],
   "source": [
    "param_grid = {'n_neighbors': range(1, 50)}  # Try k values from 1 to 20\n",
    "\n",
    "knn_model = KNeighborsRegressor()\n",
    "\n",
    "grid_search = GridSearchCV(knn_model, param_grid, cv=5, scoring='neg_mean_squared_error')\n",
    "grid_search.fit(X_train, y_train)\n",
    "\n",
    "best_k = grid_search.best_params_['n_neighbors']\n",
    "\n",
    "print(\"Best value of k:\", best_k)"
   ]
  },
  {
   "cell_type": "code",
   "execution_count": 41,
   "metadata": {
    "id": "IYWH3u1phez8"
   },
   "outputs": [
    {
     "data": {
      "text/plain": [
       "KNeighborsRegressor(n_neighbors=49)"
      ]
     },
     "execution_count": 41,
     "metadata": {},
     "output_type": "execute_result"
    }
   ],
   "source": [
    "k = 49\n",
    "knn_model = KNeighborsRegressor(n_neighbors=k)\n",
    "knn_model.fit(X_train, y_train)"
   ]
  },
  {
   "cell_type": "code",
   "execution_count": 42,
   "metadata": {
    "id": "459U_033he0G"
   },
   "outputs": [],
   "source": [
    "y_train_pred = knn_model.predict(X_train)\n",
    "train_rmse = mean_squared_error(y_train, y_train_pred, squared=False)"
   ]
  },
  {
   "cell_type": "code",
   "execution_count": 43,
   "metadata": {},
   "outputs": [],
   "source": [
    "y_pred_val = knn_model.predict(X_val)\n",
    "val_rmse = mean_squared_error(y_val, y_pred_val, squared=False)"
   ]
  },
  {
   "cell_type": "code",
   "execution_count": 44,
   "metadata": {},
   "outputs": [],
   "source": [
    "y_pred_test = knn_model.predict(X_test)\n",
    "test_rmse = mean_squared_error(y_test, y_pred_test, squared=False)"
   ]
  },
  {
   "cell_type": "markdown",
   "metadata": {
    "id": "ENg88jvmhe0G"
   },
   "source": [
    "### 9. Assess Model Performance"
   ]
  },
  {
   "cell_type": "code",
   "execution_count": 45,
   "metadata": {
    "id": "5IghUgjnhe0G"
   },
   "outputs": [
    {
     "name": "stdout",
     "output_type": "stream",
     "text": [
      "Root Mean Squared Error (RMSE) on Training Set: 0.867\n",
      "Root Mean Squared Error (RMSE) on Validation Set: 0.921\n",
      "Root Mean Squared Error (RMSE) for Testing Set: 0.816\n"
     ]
    }
   ],
   "source": [
    "model_train_perf = train_rmse.round(3)\n",
    "model_valid_perf = val_rmse.round(3)\n",
    "model_test_perf = test_rmse.round(3)\n",
    "\n",
    "print(\"Root Mean Squared Error (RMSE) on Training Set:\", model_train_perf)\n",
    "print(\"Root Mean Squared Error (RMSE) on Validation Set:\", model_valid_perf)\n",
    "print(\"Root Mean Squared Error (RMSE) for Testing Set:\", model_test_perf)"
   ]
  },
  {
   "cell_type": "markdown",
   "metadata": {
    "id": "CZacGDyzhe0H"
   },
   "source": [
    "The KNN model has been trained for the specified features. Hyperparameter tuning has been performed to find the ideal value for K. \n",
    "We notice a high level of overfitting in using the KNN methodology. \n",
    "This indicates towards Linear regression being the better model in this particular case."
   ]
  }
 ],
 "metadata": {
  "colab": {
   "provenance": []
  },
  "kernelspec": {
   "display_name": "Python 3 (ipykernel)",
   "language": "python",
   "name": "python3"
  },
  "language_info": {
   "codemirror_mode": {
    "name": "ipython",
    "version": 3
   },
   "file_extension": ".py",
   "mimetype": "text/x-python",
   "name": "python",
   "nbconvert_exporter": "python",
   "pygments_lexer": "ipython3",
   "version": "3.9.13"
  }
 },
 "nbformat": 4,
 "nbformat_minor": 1
}
