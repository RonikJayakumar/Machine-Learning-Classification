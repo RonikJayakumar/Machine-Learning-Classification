{
 "cells": [
  {
   "cell_type": "markdown",
   "metadata": {
    "id": "uQ6wc2HE0pke"
   },
   "source": [
    "# Experiment 4 - ElasticNet Regularization\n",
    "\n"
   ]
  },
  {
   "cell_type": "markdown",
   "metadata": {
    "id": "tQgxLRrvjiJb"
   },
   "source": [
    "Elastic net is a combination of the two most popular regularized variants of linear regression: ridge and lasso. Ridge utilizes an L2 penalty and lasso uses an L1 penalty. With elastic net, you don't have to choose between these two models, because elastic net uses both the L2 and the L1 penalty\n"
   ]
  },
  {
   "cell_type": "markdown",
   "metadata": {
    "id": "KFVpE17Ahezu"
   },
   "source": [
    "### 0. Import Packages"
   ]
  },
  {
   "cell_type": "code",
   "execution_count": 1,
   "metadata": {
    "id": "u7pv3da6hezu"
   },
   "outputs": [
    {
     "name": "stdout",
     "output_type": "stream",
     "text": [
      "Requirement already satisfied: pandas==2.1.1 in /Applications/anaconda3/lib/python3.11/site-packages (from -r https://raw.githubusercontent.com/aso-uts/labs_datasets/main/36106-mlaa/requirements.txt (line 1)) (2.1.1)\n",
      "Requirement already satisfied: scikit-learn==1.2.2 in /Applications/anaconda3/lib/python3.11/site-packages (from -r https://raw.githubusercontent.com/aso-uts/labs_datasets/main/36106-mlaa/requirements.txt (line 2)) (1.2.2)\n",
      "Requirement already satisfied: altair==4.2.2 in /Applications/anaconda3/lib/python3.11/site-packages (from -r https://raw.githubusercontent.com/aso-uts/labs_datasets/main/36106-mlaa/requirements.txt (line 3)) (4.2.2)\n",
      "Requirement already satisfied: numpy>=1.23.2 in /Applications/anaconda3/lib/python3.11/site-packages (from pandas==2.1.1->-r https://raw.githubusercontent.com/aso-uts/labs_datasets/main/36106-mlaa/requirements.txt (line 1)) (1.24.3)\n",
      "Requirement already satisfied: python-dateutil>=2.8.2 in /Applications/anaconda3/lib/python3.11/site-packages (from pandas==2.1.1->-r https://raw.githubusercontent.com/aso-uts/labs_datasets/main/36106-mlaa/requirements.txt (line 1)) (2.8.2)\n",
      "Requirement already satisfied: pytz>=2020.1 in /Applications/anaconda3/lib/python3.11/site-packages (from pandas==2.1.1->-r https://raw.githubusercontent.com/aso-uts/labs_datasets/main/36106-mlaa/requirements.txt (line 1)) (2023.3.post1)\n",
      "Requirement already satisfied: tzdata>=2022.1 in /Applications/anaconda3/lib/python3.11/site-packages (from pandas==2.1.1->-r https://raw.githubusercontent.com/aso-uts/labs_datasets/main/36106-mlaa/requirements.txt (line 1)) (2023.3)\n",
      "Requirement already satisfied: scipy>=1.3.2 in /Applications/anaconda3/lib/python3.11/site-packages (from scikit-learn==1.2.2->-r https://raw.githubusercontent.com/aso-uts/labs_datasets/main/36106-mlaa/requirements.txt (line 2)) (1.11.1)\n",
      "Requirement already satisfied: joblib>=1.1.1 in /Applications/anaconda3/lib/python3.11/site-packages (from scikit-learn==1.2.2->-r https://raw.githubusercontent.com/aso-uts/labs_datasets/main/36106-mlaa/requirements.txt (line 2)) (1.2.0)\n",
      "Requirement already satisfied: threadpoolctl>=2.0.0 in /Applications/anaconda3/lib/python3.11/site-packages (from scikit-learn==1.2.2->-r https://raw.githubusercontent.com/aso-uts/labs_datasets/main/36106-mlaa/requirements.txt (line 2)) (2.2.0)\n",
      "Requirement already satisfied: entrypoints in /Applications/anaconda3/lib/python3.11/site-packages (from altair==4.2.2->-r https://raw.githubusercontent.com/aso-uts/labs_datasets/main/36106-mlaa/requirements.txt (line 3)) (0.4)\n",
      "Requirement already satisfied: jinja2 in /Applications/anaconda3/lib/python3.11/site-packages (from altair==4.2.2->-r https://raw.githubusercontent.com/aso-uts/labs_datasets/main/36106-mlaa/requirements.txt (line 3)) (3.1.2)\n",
      "Requirement already satisfied: jsonschema>=3.0 in /Applications/anaconda3/lib/python3.11/site-packages (from altair==4.2.2->-r https://raw.githubusercontent.com/aso-uts/labs_datasets/main/36106-mlaa/requirements.txt (line 3)) (4.17.3)\n",
      "Requirement already satisfied: toolz in /Applications/anaconda3/lib/python3.11/site-packages (from altair==4.2.2->-r https://raw.githubusercontent.com/aso-uts/labs_datasets/main/36106-mlaa/requirements.txt (line 3)) (0.12.0)\n",
      "Requirement already satisfied: attrs>=17.4.0 in /Applications/anaconda3/lib/python3.11/site-packages (from jsonschema>=3.0->altair==4.2.2->-r https://raw.githubusercontent.com/aso-uts/labs_datasets/main/36106-mlaa/requirements.txt (line 3)) (22.1.0)\n",
      "Requirement already satisfied: pyrsistent!=0.17.0,!=0.17.1,!=0.17.2,>=0.14.0 in /Applications/anaconda3/lib/python3.11/site-packages (from jsonschema>=3.0->altair==4.2.2->-r https://raw.githubusercontent.com/aso-uts/labs_datasets/main/36106-mlaa/requirements.txt (line 3)) (0.18.0)\n",
      "Requirement already satisfied: six>=1.5 in /Applications/anaconda3/lib/python3.11/site-packages (from python-dateutil>=2.8.2->pandas==2.1.1->-r https://raw.githubusercontent.com/aso-uts/labs_datasets/main/36106-mlaa/requirements.txt (line 1)) (1.16.0)\n",
      "Requirement already satisfied: MarkupSafe>=2.0 in /Applications/anaconda3/lib/python3.11/site-packages (from jinja2->altair==4.2.2->-r https://raw.githubusercontent.com/aso-uts/labs_datasets/main/36106-mlaa/requirements.txt (line 3)) (2.1.1)\n"
     ]
    }
   ],
   "source": [
    "! pip install -r https://raw.githubusercontent.com/aso-uts/labs_datasets/main/36106-mlaa/requirements.txt"
   ]
  },
  {
   "cell_type": "code",
   "execution_count": 2,
   "metadata": {
    "id": "X3l_Iffyhezx"
   },
   "outputs": [],
   "source": [
    "import pandas as pd\n",
    "import numpy as np\n",
    "import matplotlib.pyplot as plt\n",
    "import seaborn as sns\n",
    "from datetime import datetime\n",
    "from sklearn.linear_model import ElasticNet\n",
    "from sklearn.model_selection import train_test_split, GridSearchCV\n",
    "from sklearn.preprocessing import StandardScaler, LabelEncoder\n",
    "from sklearn.metrics import mean_squared_error\n",
    "from scipy.stats import f_oneway"
   ]
  },
  {
   "cell_type": "markdown",
   "metadata": {
    "id": "_NCwQQFkU3v5"
   },
   "source": [
    "### 1.   Load Dataset"
   ]
  },
  {
   "cell_type": "code",
   "execution_count": 3,
   "metadata": {
    "id": "SiroVmhn9_HP"
   },
   "outputs": [],
   "source": [
    "train_num = pd.read_csv('/Users/ronikj/Downloads/train_num.csv')"
   ]
  },
  {
   "cell_type": "markdown",
   "metadata": {
    "id": "8Ivx4xzphezz"
   },
   "source": [
    "### 2. Explore Dataset"
   ]
  },
  {
   "cell_type": "code",
   "execution_count": 4,
   "metadata": {
    "id": "SeVo97rOhezz"
   },
   "outputs": [
    {
     "data": {
      "text/html": [
       "<div>\n",
       "<style scoped>\n",
       "    .dataframe tbody tr th:only-of-type {\n",
       "        vertical-align: middle;\n",
       "    }\n",
       "\n",
       "    .dataframe tbody tr th {\n",
       "        vertical-align: top;\n",
       "    }\n",
       "\n",
       "    .dataframe thead th {\n",
       "        text-align: right;\n",
       "    }\n",
       "</style>\n",
       "<table border=\"1\" class=\"dataframe\">\n",
       "  <thead>\n",
       "    <tr style=\"text-align: right;\">\n",
       "      <th></th>\n",
       "      <th>quant</th>\n",
       "      <th>logical</th>\n",
       "      <th>10percentage</th>\n",
       "      <th>english</th>\n",
       "      <th>collegetier</th>\n",
       "      <th>12percentage</th>\n",
       "      <th>computerprogramming</th>\n",
       "      <th>domain</th>\n",
       "      <th>age</th>\n",
       "      <th>salary</th>\n",
       "      <th>specialization_encoded</th>\n",
       "    </tr>\n",
       "  </thead>\n",
       "  <tbody>\n",
       "    <tr>\n",
       "      <th>0</th>\n",
       "      <td>2.432643</td>\n",
       "      <td>1.892646</td>\n",
       "      <td>1.016186</td>\n",
       "      <td>1.420185</td>\n",
       "      <td>0.0</td>\n",
       "      <td>0.868785</td>\n",
       "      <td>4.136420e-01</td>\n",
       "      <td>0.421884</td>\n",
       "      <td>0.249636</td>\n",
       "      <td>1.094253</td>\n",
       "      <td>1.497270</td>\n",
       "    </tr>\n",
       "    <tr>\n",
       "      <th>1</th>\n",
       "      <td>-2.500658</td>\n",
       "      <td>-0.754060</td>\n",
       "      <td>-2.076659</td>\n",
       "      <td>-0.581010</td>\n",
       "      <td>0.0</td>\n",
       "      <td>-0.885233</td>\n",
       "      <td>-9.865498e-01</td>\n",
       "      <td>-0.568227</td>\n",
       "      <td>0.249636</td>\n",
       "      <td>-1.328135</td>\n",
       "      <td>-0.810604</td>\n",
       "    </tr>\n",
       "    <tr>\n",
       "      <th>2</th>\n",
       "      <td>-0.075118</td>\n",
       "      <td>-0.293763</td>\n",
       "      <td>-0.035181</td>\n",
       "      <td>-0.152183</td>\n",
       "      <td>0.0</td>\n",
       "      <td>0.974026</td>\n",
       "      <td>-6.632640e-16</td>\n",
       "      <td>0.787905</td>\n",
       "      <td>0.827781</td>\n",
       "      <td>-0.279638</td>\n",
       "      <td>-0.041313</td>\n",
       "    </tr>\n",
       "    <tr>\n",
       "      <th>3</th>\n",
       "      <td>0.993763</td>\n",
       "      <td>1.374812</td>\n",
       "      <td>0.664726</td>\n",
       "      <td>1.658423</td>\n",
       "      <td>0.0</td>\n",
       "      <td>1.048685</td>\n",
       "      <td>2.397247e+00</td>\n",
       "      <td>1.252765</td>\n",
       "      <td>-0.328509</td>\n",
       "      <td>0.913478</td>\n",
       "      <td>-0.810604</td>\n",
       "    </tr>\n",
       "    <tr>\n",
       "      <th>4</th>\n",
       "      <td>-1.226222</td>\n",
       "      <td>-0.063615</td>\n",
       "      <td>0.433767</td>\n",
       "      <td>0.705472</td>\n",
       "      <td>0.0</td>\n",
       "      <td>0.059238</td>\n",
       "      <td>-1.569963e+00</td>\n",
       "      <td>-0.747762</td>\n",
       "      <td>0.249636</td>\n",
       "      <td>-0.677344</td>\n",
       "      <td>-1.689794</td>\n",
       "    </tr>\n",
       "  </tbody>\n",
       "</table>\n",
       "</div>"
      ],
      "text/plain": [
       "      quant   logical  10percentage   english  collegetier  12percentage  \\\n",
       "0  2.432643  1.892646      1.016186  1.420185          0.0      0.868785   \n",
       "1 -2.500658 -0.754060     -2.076659 -0.581010          0.0     -0.885233   \n",
       "2 -0.075118 -0.293763     -0.035181 -0.152183          0.0      0.974026   \n",
       "3  0.993763  1.374812      0.664726  1.658423          0.0      1.048685   \n",
       "4 -1.226222 -0.063615      0.433767  0.705472          0.0      0.059238   \n",
       "\n",
       "   computerprogramming    domain       age    salary  specialization_encoded  \n",
       "0         4.136420e-01  0.421884  0.249636  1.094253                1.497270  \n",
       "1        -9.865498e-01 -0.568227  0.249636 -1.328135               -0.810604  \n",
       "2        -6.632640e-16  0.787905  0.827781 -0.279638               -0.041313  \n",
       "3         2.397247e+00  1.252765 -0.328509  0.913478               -0.810604  \n",
       "4        -1.569963e+00 -0.747762  0.249636 -0.677344               -1.689794  "
      ]
     },
     "execution_count": 4,
     "metadata": {},
     "output_type": "execute_result"
    }
   ],
   "source": [
    "train_num.head()"
   ]
  },
  {
   "cell_type": "code",
   "execution_count": 5,
   "metadata": {
    "id": "Gd6eGM81hez0"
   },
   "outputs": [
    {
     "data": {
      "text/plain": [
       "(2998, 11)"
      ]
     },
     "execution_count": 5,
     "metadata": {},
     "output_type": "execute_result"
    }
   ],
   "source": [
    "train_num.shape"
   ]
  },
  {
   "cell_type": "code",
   "execution_count": 6,
   "metadata": {
    "id": "L6eMrb1Dhez0"
   },
   "outputs": [
    {
     "data": {
      "text/plain": [
       "quant                     float64\n",
       "logical                   float64\n",
       "10percentage              float64\n",
       "english                   float64\n",
       "collegetier               float64\n",
       "12percentage              float64\n",
       "computerprogramming       float64\n",
       "domain                    float64\n",
       "age                       float64\n",
       "salary                    float64\n",
       "specialization_encoded    float64\n",
       "dtype: object"
      ]
     },
     "execution_count": 6,
     "metadata": {},
     "output_type": "execute_result"
    }
   ],
   "source": [
    "train_num.dtypes"
   ]
  },
  {
   "cell_type": "markdown",
   "metadata": {
    "id": "M4XLRCm9hez2"
   },
   "source": [
    "### 3. Explore Target variable"
   ]
  },
  {
   "cell_type": "code",
   "execution_count": 7,
   "metadata": {
    "id": "NpX52MLIhez2"
   },
   "outputs": [
    {
     "data": {
      "text/plain": [
       "0    1.094253\n",
       "1   -1.328135\n",
       "2   -0.279638\n",
       "3    0.913478\n",
       "4   -0.677344\n",
       "Name: salary, dtype: float64"
      ]
     },
     "execution_count": 7,
     "metadata": {},
     "output_type": "execute_result"
    }
   ],
   "source": [
    "target = train_num['salary']\n",
    "target.head()"
   ]
  },
  {
   "cell_type": "code",
   "execution_count": 8,
   "metadata": {
    "id": "o7N7UUAEhez3",
    "scrolled": true
   },
   "outputs": [
    {
     "data": {
      "text/plain": [
       "(2998,)"
      ]
     },
     "execution_count": 8,
     "metadata": {},
     "output_type": "execute_result"
    }
   ],
   "source": [
    "target.shape"
   ]
  },
  {
   "cell_type": "markdown",
   "metadata": {},
   "source": [
    "### 4. Explore Variables of Interest"
   ]
  },
  {
   "cell_type": "markdown",
   "metadata": {},
   "source": [
    "This step is skipped as data exploration has been performed in experiment 1. The same cleaned and explored dataset is being used for the Experiment 4."
   ]
  },
  {
   "cell_type": "markdown",
   "metadata": {},
   "source": [
    "### 5. Prepare Data"
   ]
  },
  {
   "cell_type": "markdown",
   "metadata": {},
   "source": [
    "This step is skipped as data exploration has been performed in experiment 1. The same cleaned and explored dataset is being used for the Experiment 2."
   ]
  },
  {
   "cell_type": "markdown",
   "metadata": {
    "id": "N0S5LSAcjkvP"
   },
   "source": [
    "### 4. Split Dataset"
   ]
  },
  {
   "cell_type": "code",
   "execution_count": 10,
   "metadata": {
    "id": "ICjW0_-4TBvu"
   },
   "outputs": [
    {
     "name": "stdout",
     "output_type": "stream",
     "text": [
      "X_train shape: (2398, 10)\n",
      "X_test shape: (300, 10)\n",
      "X_val shape: (300, 10)\n",
      "y_train shape: (2398,)\n",
      "y_test shape: (300,)\n",
      "y_val shape: (300,)\n"
     ]
    }
   ],
   "source": [
    "X = train_num.drop(columns=['salary'])\n",
    "y = train_num['salary'] \n",
    "\n",
    "X_train, X_temp, y_train, y_temp = train_test_split(X, y, test_size=0.2, random_state=42)\n",
    "X_test, X_val, y_test, y_val = train_test_split(X_temp, y_temp, test_size=0.5, random_state=42)\n",
    "\n",
    "print(\"X_train shape:\", X_train.shape)\n",
    "print(\"X_test shape:\", X_test.shape)\n",
    "print(\"X_val shape:\", X_val.shape)\n",
    "print(\"y_train shape:\", y_train.shape)\n",
    "print(\"y_test shape:\", y_test.shape)\n",
    "print(\"y_val shape:\", y_val.shape)"
   ]
  },
  {
   "cell_type": "markdown",
   "metadata": {
    "id": "N8MNBrC4Zgz6"
   },
   "source": [
    "### 5. Baseline Model"
   ]
  },
  {
   "cell_type": "code",
   "execution_count": 34,
   "metadata": {
    "id": "Mh6epkAThez5"
   },
   "outputs": [],
   "source": [
    "y_train_central = np.mean(y_train)"
   ]
  },
  {
   "cell_type": "code",
   "execution_count": 35,
   "metadata": {
    "id": "7We16YIYhez5"
   },
   "outputs": [],
   "source": [
    "y_train_base = np.full(y_train.shape, y_train_central)\n",
    "y_val_base = np.full(y_val.shape, y_train_central)\n",
    "y_test_base = np.full(y_test.shape, y_train_central)"
   ]
  },
  {
   "cell_type": "code",
   "execution_count": 36,
   "metadata": {
    "id": "yQlcYIfThez5"
   },
   "outputs": [],
   "source": [
    "train_rmse = mean_squared_error(y_train, y_train_base, squared=False)\n",
    "val_rmse = mean_squared_error(y_val, y_val_base, squared=False)\n",
    "test_rmse = mean_squared_error(y_test, y_test_base, squared=False)"
   ]
  },
  {
   "cell_type": "code",
   "execution_count": 37,
   "metadata": {
    "id": "x1Q3oxoNhez5"
   },
   "outputs": [
    {
     "name": "stdout",
     "output_type": "stream",
     "text": [
      "Baseline Model Performance:\n",
      "Training RMSE: 1.0\n",
      "Validation RMSE: 1.0\n",
      "Testing RMSE: 0.96\n"
     ]
    }
   ],
   "source": [
    "print(\"Baseline Model Performance:\")\n",
    "print(f\"Training RMSE: {train_rmse.round(2)}\")\n",
    "print(f\"Validation RMSE: {val_rmse.round(2)}\")\n",
    "print(f\"Testing RMSE: {test_rmse.round(2)}\")"
   ]
  },
  {
   "cell_type": "markdown",
   "metadata": {
    "id": "JUEbyrm2ZzhL"
   },
   "source": [
    "### 6. Train Machine Learning Model"
   ]
  },
  {
   "cell_type": "code",
   "execution_count": 28,
   "metadata": {},
   "outputs": [
    {
     "name": "stdout",
     "output_type": "stream",
     "text": [
      "Fitting 5 folds for each of 9 candidates, totalling 45 fits\n",
      "Best Parameters: {'alpha': 0.01, 'l1_ratio': 0.1}\n",
      "Best Negative MSE Score: -0.7674187507367513\n"
     ]
    }
   ],
   "source": [
    "param_grid = {\n",
    "    'alpha': [0.01, 0.1, 1.0],  # Range of alpha values to try\n",
    "    'l1_ratio': [0.1, 0.5, 0.9]  # Range of l1_ratio values to try\n",
    "}\n",
    "\n",
    "grid_search = GridSearchCV(ElasticNet(), param_grid, cv=5, scoring='neg_mean_squared_error', verbose=1)\n",
    "\n",
    "\n",
    "grid_search.fit(X_train, y_train)\n",
    "\n",
    "best_params = grid_search.best_params_\n",
    "best_score = grid_search.best_score_\n",
    "\n",
    "print(\"Best Parameters:\", best_params)\n",
    "print(\"Best Negative MSE Score:\", best_score)"
   ]
  },
  {
   "cell_type": "code",
   "execution_count": 29,
   "metadata": {
    "id": "PTd6xDMVhez7"
   },
   "outputs": [
    {
     "data": {
      "text/plain": [
       "ElasticNet(alpha=0.01, l1_ratio=0.1)"
      ]
     },
     "execution_count": 29,
     "metadata": {},
     "output_type": "execute_result"
    }
   ],
   "source": [
    "model_en = ElasticNet(alpha=0.01, l1_ratio=0.1)  # Example values for alpha and l1_ratio\n",
    "model_en.fit(X_train, y_train)"
   ]
  },
  {
   "cell_type": "code",
   "execution_count": 30,
   "metadata": {
    "id": "IYWH3u1phez8"
   },
   "outputs": [],
   "source": [
    "y_train_pred = model_en.predict(X_train)\n",
    "train_rmse = mean_squared_error(y_train, y_train_pred, squared=False)"
   ]
  },
  {
   "cell_type": "code",
   "execution_count": 31,
   "metadata": {
    "id": "459U_033he0G"
   },
   "outputs": [],
   "source": [
    "y_val_pred = model_en.predict(X_val)\n",
    "val_rmse = mean_squared_error(y_val, y_pred, squared=False)"
   ]
  },
  {
   "cell_type": "code",
   "execution_count": 32,
   "metadata": {},
   "outputs": [],
   "source": [
    "y_pred_test = model_en.predict(X_test)\n",
    "test_rmse = mean_squared_error(y_test, y_pred_test, squared=False)"
   ]
  },
  {
   "cell_type": "markdown",
   "metadata": {
    "id": "ENg88jvmhe0G"
   },
   "source": [
    "### 7. Assess Model Performance"
   ]
  },
  {
   "cell_type": "code",
   "execution_count": 33,
   "metadata": {
    "id": "5IghUgjnhe0G"
   },
   "outputs": [
    {
     "name": "stdout",
     "output_type": "stream",
     "text": [
      "Root Mean Squared Error (RMSE) on Training Set: 0.87198\n",
      "Root Mean Squared Error (RMSE) on Validation Set: 0.86806\n",
      "Root Mean Squared Error (RMSE) for Testing Set: 0.84253\n"
     ]
    }
   ],
   "source": [
    "model_train_perf = train_rmse.round(5)\n",
    "model_valid_perf = val_rmse.round(5)\n",
    "model_test_perf = test_rmse.round(5)\n",
    "\n",
    "print(\"Root Mean Squared Error (RMSE) on Training Set:\", model_train_perf)\n",
    "print(\"Root Mean Squared Error (RMSE) on Validation Set:\", model_valid_perf)\n",
    "print(\"Root Mean Squared Error (RMSE) for Testing Set:\", model_test_perf)"
   ]
  }
 ],
 "metadata": {
  "colab": {
   "provenance": []
  },
  "kernelspec": {
   "display_name": "Python 3 (ipykernel)",
   "language": "python",
   "name": "python3"
  },
  "language_info": {
   "codemirror_mode": {
    "name": "ipython",
    "version": 3
   },
   "file_extension": ".py",
   "mimetype": "text/x-python",
   "name": "python",
   "nbconvert_exporter": "python",
   "pygments_lexer": "ipython3",
   "version": "3.9.13"
  }
 },
 "nbformat": 4,
 "nbformat_minor": 1
}
